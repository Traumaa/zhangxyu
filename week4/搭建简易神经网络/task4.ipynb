{
 "cells": [
  {
   "cell_type": "markdown",
   "metadata": {},
   "source": [
    "# WEEK4：使用 pytorch 搭建简易神经网络\n",
    "\n",
    "## 4.1 搭建神经网络的一般流程\n",
    "1. 定义一个拥有可学习参数的神经网络\n",
    "\n",
    "2. 遍历训练数据集\n",
    "3. 处理输入数据使其流经神经网络\n",
    "4. 计算损失值\n",
    "5. 将网络参数的梯度进行反向传播\n",
    "6. 以一定的规则更新网络的权重\n",
    "\n",
    "## 4.2 `torch.nn`介绍\n",
    "- `torch.nn` 是 pytorch 中一个重要的包，可以用来搭建神经网络\n",
    "\n",
    "- `torch.nn` 依赖于 `autograd` 包来定义模型，并对它们自动求导"
   ]
  },
  {
   "cell_type": "markdown",
   "metadata": {},
   "source": [
    "## 4.3 搭建神经网络\n",
    "### 4.3.1 首先定义一个神经网络"
   ]
  },
  {
   "cell_type": "code",
   "execution_count": 40,
   "metadata": {},
   "outputs": [],
   "source": [
    "# 导入若干工具包\n",
    "import torch\n",
    "import torch.nn as nn\n",
    "import torch.nn.functional as F\n",
    " \n",
    " \n",
    "# 定义一个简单的网络类\n",
    "class Net(nn.Module):  # 一个初始化函数\n",
    "    def __init__(self):\n",
    "        super(Net, self).__init__()\n",
    "        # 定义第一层卷积神经网络，输入通道维度=1，输出通道维度=6，卷积和大小3*3\n",
    "        self.conv1 = nn.Conv2d(1, 6, 3)\n",
    "        # 定义第二层卷积神经网络，输入通道维度=6，输出通道维度=16，卷积和大小3*3\n",
    "        self.conv2 = nn.Conv2d(6, 16, 3)\n",
    "        # 定义三层全连接网络\n",
    "        self.fc1 = nn.Linear(16 * 6 * 6, 120)\n",
    "        self.fc2 = nn.Linear(120, 84)\n",
    "        self.fc3 = nn.Linear(84, 10)\n",
    " \n",
    "    def forward(self, x):\n",
    "        # 在（2， 2）的池化窗口下执行最大池化操作\n",
    "        x = F.max_pool2d(F.relu(self.conv1(x)), (2, 2))\n",
    "        x = F.max_pool2d(F.relu(self.conv2(x)), 2)\n",
    "        x = x.view(-1, self.num_flat_features(x))\n",
    "        x = F.relu(self.fc1(x))\n",
    "        x = F.relu(self.fc2(x))\n",
    "        x = self.fc3(x)\n",
    "        return x\n",
    " \n",
    "    # 维度扁平化\n",
    "    def num_flat_features(self, x):\n",
    "        # 计算size，除了第0个维度上的batch_size\n",
    "        size = x.size()[1:]\n",
    "        num_features = 1\n",
    "        for s in size:\n",
    "            num_features *= s\n",
    "        return num_features\n",
    " "
   ]
  },
  {
   "cell_type": "markdown",
   "metadata": {},
   "source": [
    "### 4.3.2 输出神经网络"
   ]
  },
  {
   "cell_type": "code",
   "execution_count": 41,
   "metadata": {},
   "outputs": [
    {
     "name": "stdout",
     "output_type": "stream",
     "text": [
      "Net(\n",
      "  (conv1): Conv2d(1, 6, kernel_size=(3, 3), stride=(1, 1))\n",
      "  (conv2): Conv2d(6, 16, kernel_size=(3, 3), stride=(1, 1))\n",
      "  (fc1): Linear(in_features=576, out_features=120, bias=True)\n",
      "  (fc2): Linear(in_features=120, out_features=84, bias=True)\n",
      "  (fc3): Linear(in_features=84, out_features=10, bias=True)\n",
      ")\n"
     ]
    }
   ],
   "source": [
    "net = Net()\n",
    "print(net)"
   ]
  },
  {
   "cell_type": "markdown",
   "metadata": {},
   "source": [
    "### 4.3.3 通过 `net.parameters()` 来获得模型中所有的可训练参数"
   ]
  },
  {
   "cell_type": "code",
   "execution_count": 42,
   "metadata": {},
   "outputs": [
    {
     "name": "stdout",
     "output_type": "stream",
     "text": [
      "10\n",
      "torch.Size([6, 1, 3, 3])\n"
     ]
    }
   ],
   "source": [
    "params = list(net.parameters())#用list进行封装\n",
    "print(len(params))\n",
    "print(params[0].size())"
   ]
  },
  {
   "cell_type": "markdown",
   "metadata": {},
   "source": [
    "### 4.3.4 输入图像\n",
    "- 假设图像的输入尺寸为 $32×32$："
   ]
  },
  {
   "cell_type": "code",
   "execution_count": 43,
   "metadata": {},
   "outputs": [
    {
     "name": "stdout",
     "output_type": "stream",
     "text": [
      "tensor([[-0.0929,  0.1267,  0.0840, -0.0446,  0.0175,  0.0274,  0.0458, -0.0680,\n",
      "          0.0267, -0.0472]], grad_fn=<AddmmBackward0>)\n"
     ]
    }
   ],
   "source": [
    "input = torch.randn(1, 1, 32, 32)\n",
    "out = net(input)\n",
    "print(out)"
   ]
  },
  {
   "cell_type": "markdown",
   "metadata": {},
   "source": [
    "- 得到输出张量后，接着进行梯度归零和反向传播。\n",
    "\n",
    "- 注意：`torch.nn`只支持小批量处理 (mini-batches）。整个 `torch.nn` 包只支持小批量样本的输入，不支持单个样本的输入。比如：`nn.Conv2d` 接受一个4维的张量，即 $nSamples × nChannels × Height × Width$。如果是一个单独的样本，只需要使用 `input.unsqueeze(0)`  来添加一个“假的”批大小维度。"
   ]
  },
  {
   "cell_type": "code",
   "execution_count": 44,
   "metadata": {},
   "outputs": [],
   "source": [
    "net.zero_grad()\n",
    "out.backward(torch.randn(1, 10))"
   ]
  },
  {
   "cell_type": "markdown",
   "metadata": {},
   "source": [
    "### 4.3.5 损失函数\n",
    "- 损失函数的输入是： (output,target) ，然后通过损失函数计算出一个数值来评估 output 和 target 之间的差距。\n",
    "\n",
    "- torch.nn 提供多种不同的损失函数可供使用，例如 nn.MSELoss，它是通过计算均方差损失来评估 output 和 target 之间的差距。"
   ]
  },
  {
   "cell_type": "code",
   "execution_count": 45,
   "metadata": {},
   "outputs": [
    {
     "name": "stdout",
     "output_type": "stream",
     "text": [
      "tensor(0.4173, grad_fn=<MseLossBackward0>)\n"
     ]
    }
   ],
   "source": [
    "output = net(input)\n",
    "target = torch.randn(10)\n",
    "# 改变 target 的形状为二维张量，为了和 output 匹配\n",
    "target = target.view(1, -1)\n",
    "criterion = nn.MSELoss()\n",
    "loss = criterion(output, target)\n",
    "print(loss)"
   ]
  },
  {
   "cell_type": "code",
   "execution_count": 46,
   "metadata": {},
   "outputs": [
    {
     "name": "stdout",
     "output_type": "stream",
     "text": [
      "<MseLossBackward0 object at 0x7fc5bee15f10>\n",
      "<AddmmBackward0 object at 0x7fc5bee15340>\n",
      "<AccumulateGrad object at 0x7fc5bee15f10>\n"
     ]
    }
   ],
   "source": [
    "print(loss.grad_fn)# MSELoss\n",
    "print(loss.grad_fn.next_functions[0][0])# Linear\n",
    "print(loss.grad_fn.next_functions[0][0].next_functions[0][0])# ReLU"
   ]
  },
  {
   "cell_type": "markdown",
   "metadata": {},
   "source": [
    "### 4.3.6 反向传播\n",
    "\n",
    "- 在Pytorch中执行反向传播非常简便，全部的操作就是 `loss.backward()`\n",
    "\n",
    "- 在执行反向传播之前，要先将梯度清零，否则梯度会在不同的批次数据之间被累加"
   ]
  },
  {
   "cell_type": "code",
   "execution_count": 47,
   "metadata": {},
   "outputs": [
    {
     "name": "stdout",
     "output_type": "stream",
     "text": [
      "conv1.bias.grad before backward\n",
      "tensor([0., 0., 0., 0., 0., 0.])\n",
      "conv1.bias.grad after backward\n",
      "tensor([-0.0033, -0.0004,  0.0099,  0.0035,  0.0018,  0.0031])\n"
     ]
    }
   ],
   "source": [
    "#梯度清零\n",
    "net.zero_grad()\n",
    "print('conv1.bias.grad before backward')\n",
    "print(net.conv1.bias.grad)\n",
    "#反向传播\n",
    "loss.backward()\n",
    "print('conv1.bias.grad after backward')\n",
    "print(net.conv1.bias.grad)"
   ]
  },
  {
   "cell_type": "markdown",
   "metadata": {},
   "source": [
    "### 4.3.7 更新网络参数\n",
    "\n",
    "- 更新参数最简单的算法就是SGD（随机梯度下降）\n",
    "\n",
    "- 具体的算法公式表达式为：$weight = weight - learning rate × gradient$"
   ]
  },
  {
   "cell_type": "markdown",
   "metadata": {},
   "source": [
    "1. 传统python代码实现随机梯度下降"
   ]
  },
  {
   "cell_type": "code",
   "execution_count": 48,
   "metadata": {},
   "outputs": [],
   "source": [
    "learning_rate = 0.01\n",
    "for f in net.parameters():\n",
    "    f.data.sub_(f.grad.data * learning_rate)"
   ]
  },
  {
   "cell_type": "markdown",
   "metadata": {},
   "source": [
    "2. 使用Pytorch官方推荐的标准代码如下："
   ]
  },
  {
   "cell_type": "code",
   "execution_count": 49,
   "metadata": {},
   "outputs": [],
   "source": [
    "# 首先导入优化器的包，optim中包含若干常用的优化算法，比如SGD，Adam等\n",
    "import torch.optim as optim\n",
    "\n",
    "# 通过opotim创建优化器对象\n",
    "optimizer = optim.SGD(net.parameters(), lr=0.01)\n",
    "# 将优化器执行梯度清零的操作\n",
    "optimizer.zero_grad()\n",
    "output = net(input)\n",
    "loss = criterion(output, target)\n",
    "# 对损失值执行反向传播的操作\n",
    "loss.backward()\n",
    "# 参数的更新通过一行标准代码来执行\n",
    "optimizer.step()"
   ]
  }
 ],
 "metadata": {
  "kernelspec": {
   "display_name": "Python 3 (ipykernel)",
   "language": "python",
   "name": "python3"
  },
  "language_info": {
   "codemirror_mode": {
    "name": "ipython",
    "version": 3
   },
   "file_extension": ".py",
   "mimetype": "text/x-python",
   "name": "python",
   "nbconvert_exporter": "python",
   "pygments_lexer": "ipython3",
   "version": "3.7.13"
  },
  "vscode": {
   "interpreter": {
    "hash": "8004ef2893cd8ba7bcbe56b84cb0d06ac01e074b775ed352f293a083b0ffbcee"
   }
  }
 },
 "nbformat": 4,
 "nbformat_minor": 2
}
